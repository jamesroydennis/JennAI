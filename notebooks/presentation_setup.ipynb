{
 "cells": [
  {
   "cell_type": "markdown",
   "metadata": {},
   "source": [
    "# 🚀 JennAI Presentation Layer Setup Guide\n",
    "\n",
    "> _“Don’t Panic.”_\n",
    "\n",
    "Welcome, fellow sentient! This notebook will guide you through the setup of your **JennAI presentation layer** (Flask, Angular, React, or whatever the universe throws at you), using your meticulously crafted brand assets and automation scripts.\n",
    "\n",
    "If you follow these steps, you’ll have a beautiful, consistent, and highly professional web presence—without needing to know the answer to life, the universe, and everything (but it helps if you do)."
   ]
  },
  {
   "cell_type": "markdown",
   "metadata": {},
   "source": [
    "## 🌌 1. Project Overview\n",
    "\n",
    "- **Brand assets** live in the `Brand/` folder (images, SCSS, mission, vision, etc.).\n",
    "- **Automation scripts** live in the `admin/` folder at the project root.\n",
    "- **Presentation layers** (Flask, Angular, React, Vue) are generated using these scripts, ensuring cosmic consistency.\n",
    "- **Mission & Vision** are loaded dynamically from `Brand/mission.txt` and `Brand/vision.md`.\n",
    "- - **Problem Statement** is loaded dynamically from `Brand/problem_statement.txt`.\n",
    "- **SCSS theme** is always sourced from `Brand/theme.scss`.\n",
    "\n",
    "_Remember: Always know where your towel is. And your logo._"
   ]
  },
  {
   "cell_type": "markdown",
   "metadata": {},
   "source": [
    "## 🛸 2. Brand Asset Checklist\n",
    "\n",
    "Before you begin, ensure the following files exist in your `Brand/` folder:\n",
    "\n",
    "- `jennai-logo.png` (your logo)\n",
    "- `favicon_io/favicon.ico` (your favicon)\n",
    "- `theme.scss` (your SCSS theme)\n",
    "- `mission.txt` (your 5-word mission)\n",
    "- `vision.md` (your vision statement)\n",
    "- All images referenced in your templates (see [presentation_installation.md](../src/presentation/notebooks/presentation_installation.md))\n",
    "\n",
    "If you’re missing any, don’t panic—just add them before proceeding."
   ]
  },
  {
   "cell_type": "markdown",
   "metadata": {},
   "source": [
    "## 🧰 3. Environment Setup\n",
    "\n",
    "Activate your Conda environment (if you haven’t already):\n",
    "```sh\n",
    "conda activate jennai-root\n",
    "```\n",
    "\n",
    "Install dependencies (if needed):\n",
    "```sh\n",
    "conda env update -f environment.yaml\n",
    "```\n",
    "\n",
    "Install SCSS compiler (if you want to compile SCSS to CSS):\n",
    "```sh\n",
    "npm install -g sass\n",
    "```\n",
    "\n",
    "_If you see a Babel fish, you’re in the wrong galaxy._"
   ]
  },
  {
   "cell_type": "markdown",
   "metadata": {},
   "source": [
    "## 🤖 4. Generate Your Presentation Layer\n",
    "\n",
    "### Flask\n",
    "Run the following cell to generate your Flask presentation files and copy all brand assets:\n"
   ]
  },
  {
   "cell_type": "code",
   "execution_count": null,
   "metadata": {},
   "outputs": [],
   "source": [
    "# Run this in a terminal, not in the notebook!\n",
    "!python ../admin/create_presentation_flask.py"
   ]
  },
  {
   "cell_type": "markdown",
   "metadata": {},
   "source": [
    "## Creating a New Angular App in the Project\n",
    "\n",
    "To scaffold a new Angular application in the correct directory, run the following commands from your project root:\n",
    "\n",
    "```sh\n",
    "cd src/presentation\n",
    "ng new angular_app --directory angular_app\n",
    "```\n",
    "\n",
    "- This will create all necessary Angular files and folders inside `src/presentation/angular_app`.\n",
    "- Make sure you have the Angular CLI installed globally (`npm install -g @angular/cli`).\n",
    "- Do **not** add `__init__.py` files to any Angular directories.\n",
    "- After creation, your `angular_app` will include `angular.json`, `package.json`, `tsconfig.json`, and the full `src/` structure.\n",
    "\n",
    "> **Tip:** Always run Angular CLI commands from the correct directory to avoid nested or misplaced projects."
   ]
  },
  {
   "cell_type": "markdown",
   "metadata": {},
   "source": [
    "### Angular\n",
    "If you want to demonstrate your pan-galactic frontend skills:\n"
   ]
  },
  {
   "cell_type": "code",
   "execution_count": null,
   "metadata": {},
   "outputs": [],
   "source": [
    "!python ../admin/create_presentation_angular.py"
   ]
  },
  {
   "cell_type": "markdown",
   "metadata": {},
   "source": [
    "### React\n",
    "Or, if you prefer your components with JSX:\n"
   ]
  },
  {
   "cell_type": "code",
   "execution_count": null,
   "metadata": {},
   "outputs": [],
   "source": [
    "!python ../admin/create_presentation_react.py"
   ]
  },
  {
   "cell_type": "markdown",
   "metadata": {},
   "source": [
    "## 🧪 5. Verify the Output As an Observer\n",
    "\n",
    "Check that the following have been created:\n",
    "- All images in the correct `static/img/`, `assets/`, or `public/` folders\n",
    "- SCSS theme in the correct styles folder\n",
    "- Templates/components referencing your brand assets\n",
    "- Mission and vision loaded dynamically (for Flask)\n",
    "\n",
    "If anything is missing, check your `Brand/` folder and re-run the script. Don’t forget your towel."
   ]
  },
  {
   "cell_type": "markdown",
   "metadata": {},
   "source": [
    "## 🛰️ 6. Compile SCSS (Optional)\n",
    "\n",
    "If you want to see your beautiful theme in action, compile your SCSS:\n",
    "```sh\n",
    "sass src/presentation/api_server/flask_app/static/css/main.scss src/presentation/api_server/flask_app/static/css/main.css\n",
    "```\n",
    "Or for Angular/React, adjust the path as needed.\n",
    "\n",
    "_Don’t panic if you see a lot of CSS. That’s normal._"
   ]
  },
  {
   "cell_type": "markdown",
   "metadata": {},
   "source": [
    "## 🌠 7. Launch and Explore\n",
    "\n",
    "For Flask:\n",
    "```sh\n",
    "python src/presentation/api_server/flask_app/app.py\n",
    "```\n",
    "Then open [http://localhost:5000](http://localhost:5000) in your browser.\n",
    "\n",
    "For Angular or React, use their respective dev servers (e.g., `ng serve` or `npm start`).\n",
    "\n",
    "If you see your brand, your mission, and your vision—congratulations! You are now the proud owner of a pan-galactic, brand-consistent presentation layer.\n",
    "\n",
    "> _“So long, and thanks for all the fish.”_"
   ]
  }
 ],
 "metadata": {
  "kernelspec": {
   "display_name": "Python 3",
   "language": "python",
   "name": "python3"
  },
  "language_info": {
   "name": "python",
   "version": ""
  }
 },
 "nbformat": 4,
 "nbformat_minor": 2
}
