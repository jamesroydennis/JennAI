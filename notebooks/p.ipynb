{
 "cells": [
  {
   "cell_type": "markdown",
   "metadata": {},
   "source": [
    "# 🚀 JennAI Presentation Layer Setup Guide (Practical)\n",
    "\n",
    "> _“Don’t Panic.”_\n",
    "\n",
    "Welcome! This notebook will guide you through setting up your **JennAI presentation layer** (Flask, Angular, React), using your brand assets and automation scripts for a consistent, professional web presence."
   ]
  },
  {
   "cell_type": "markdown",
   "metadata": {},
   "source": [
    "## 🌌 1. Project Overview\n",
    "\n",
    "- **Brand assets** live in `src/presentation/brand/` (images, SCSS, mission, vision, etc.).\n",
    "- **Automation scripts** live in the `admin/` folder at the project root.\n",
    "- **Presentation layers** (Flask, Angular, React) are generated using these scripts.\n",
    "- **Mission & Vision** are loaded dynamically from `brand/mission.txt` and `brand/vision.md`.\n",
    "- **SCSS theme** is always sourced from `brand/theme.scss`.\n",
    "\n",
    "_Remember: Always know where your towel is. And your logo._"
   ]
  },
  {
   "cell_type": "markdown",
   "metadata": {},
   "source": [
    "## 🛸 2. Brand Asset Checklist\n",
    "\n",
    "Before you begin, ensure the following files exist in your `src/presentation/brand/` folder:\n",
    "\n",
    "- `jennai-logo.png` (your logo)\n",
    "- `favicon_io/favicon.ico` (your favicon)\n",
    "- `theme.scss` (your SCSS theme)\n",
    "- `mission.txt` (your 5-word mission)\n",
    "- `vision.md` (your vision statement)\n",
    "- All images referenced in your templates (see [presentation_installation.md](../src/presentation/notebooks/presentation_installation.md))\n",
    "\n",
    "If you’re missing any, don’t panic—just add them before proceeding."
   ]
  },
  {
   "cell_type": "markdown",
   "metadata": {},
   "source": [
    "## 🧰 3. Environment Setup\n",
    "\n",
    "Activate your Conda environment (if you haven’t already):\n",
    "```sh\n",
    "conda activate jennai-root\n",
    "```\n",
    "\n",
    "Install dependencies (if needed):\n",
    "```sh\n",
    "conda env update -f environment.yaml\n",
    "```\n",
    "\n",
    "Install SCSS compiler (if you want to compile SCSS to CSS):\n",
    "```sh\n",
    "npm install -g sass\n",
    "```\n",
    "\n",
    "_If you see a Babel fish, you’re in the wrong galaxy._"
   ]
  },
  {
   "cell_type": "markdown",
   "metadata": {},
   "source": [
    "## 🤖 4. Generate Your Presentation Layer\n",
    "\n",
    "### Flask\n",
    "\n",
    "1. **Generate starter Flask files (if needed):**\n",
    "    ```sh\n",
    "    python admin/create_presentation_flask.py\n",
    "    ```\n",
    "2. **Copy brand assets into Flask static/templates:**\n",
    "    ```sh\n",
    "    python admin/copy_brand_to_flask.py\n",
    "    ```\n",
    "    - This script copies images, SCSS, and text from `src/presentation/brand` to the correct Flask locations.\n",
    "    - You can safely re-run this script whenever you update your brand assets.\n",
    "\n",
    "---\n",
    "\n",
    "### Angular\n",
    "\n",
    "To scaffold a new Angular application in the correct directory, run:\n",
    "\n",
    "```sh\n",
    "cd src/presentation\n",
    "ng new angular_app --directory angular_app\n",
    "```\n",
    "\n",
    "- This will create all necessary Angular files and folders inside `src/presentation/angular_app`.\n",
    "- Make sure you have the Angular CLI installed globally (`npm install -g @angular/cli`).\n",
    "- Do **not** add `__init__.py` files to any Angular directories.\n",
    "- After creation, your `angular_app` will include `angular.json`, `package.json`, `tsconfig.json`, and the full `src/` structure.\n",
    "- **Copy or import brand assets** from `brand/` into `angular_app/src/assets/` as needed.\n",
    "\n",
    "> **Tip:** Always run Angular CLI commands from the correct directory to avoid nested or misplaced projects.\n",
    "\n",
    "---\n",
    "\n",
    "### React\n",
    "\n",
    "To scaffold a new React application in the correct directory, run:\n",
    "\n",
    "```sh\n",
    "cd src/presentation\n",
    "npx create-react-app react_app\n",
    "```\n",
    "\n",
    "- This will create all necessary React files and folders inside `src/presentation/react_app`.\n",
    "- Make sure you have Node.js and npm installed.\n",
    "- Do **not** add `__init__.py` files to any React directories.\n",
    "- After creation, your `react_app` will include `package.json`, `public/`, `src/`, and all required config files.\n",
    "- **Copy or import brand assets** from `brand/` into `react_app/public/` or `react_app/src/assets/` as needed.\n",
    "\n",
    "> **Tip:** For a Vite-based React app, use:\n",
    "> ```sh\n",
    "> npm create vite@latest react_app -- --template react\n",
    "> ```"
   ]
  },
  {
   "cell_type": "markdown",
   "metadata": {},
   "source": [
    "## 🧪 5. Verify the Output\n",
    "\n",
    "Check that the following have been created:\n",
    "- All images in the correct `static/img/`, `assets/`, or `public/` folders\n",
    "- SCSS theme in the correct styles folder\n",
    "- Templates/components referencing your brand assets\n",
    "- Mission and vision loaded dynamically (for Flask)\n",
    "\n",
    "If anything is missing, check your `brand/` folder and re-run the script. Don’t forget your towel."
   ]
  },
  {
   "cell_type": "markdown",
   "metadata": {},
   "source": [
    "## 🛰️ 6. Compile SCSS (Optional)\n",
    "\n",
    "If you want to see your beautiful theme in action, compile your SCSS:\n",
    "\n",
    "For Flask:\n",
    "```sh\n",
    "sass src/presentation/brand/theme.scss src/presentation/api_server/flask_app/static/css/theme.css\n",
    "```\n",
    "For Angular:\n",
    "```sh\n",
    "sass src/presentation/brand/theme.scss src/presentation/angular_app/src/styles/theme.css\n",
    "```\n",
    "For React:\n",
    "```sh\n",
    "sass src/presentation/brand/theme.scss src/presentation/react_app/src/assets/theme.css\n",
    "```\n",
    "\n",
    "Or, import the SCSS directly if your frontend build supports it.\n",
    "\n",
    "_Don’t panic if you see a lot of CSS. That’s normal._"
   ]
  },
  {
   "cell_type": "markdown",
   "metadata": {},
   "source": [
    "## 🌠 7. Launch and Explore\n",
    "\n",
    "For Flask:\n",
    "```sh\n",
    "python src/presentation/api_server/flask_app/app.py\n",
    "```\n",
    "Then open [http://localhost:5000](http://localhost:5000) in your browser.\n",
    "\n",
    "For Angular:\n",
    "```sh\n",
    "cd src/presentation/angular_app\n",
    "ng serve\n",
    "```\n",
    "Then open [http://localhost:4200](http://localhost:4200).\n",
    "\n",
    "For React:\n",
    "```sh\n",
    "cd src/presentation/react_app\n",
    "npm start\n",
    "```\n",
    "Then open [http://localhost:3000](http://localhost:3000).\n",
    "\n",
    "If you see your brand, your mission, and your vision—congratulations! You are now the proud owner of a pan-galactic, brand-consistent presentation layer.\n",
    "\n",
    "> _“So long, and thanks for all the fish.”_"
   ]
  }
 ],
 "metadata": {
  "kernelspec": {
   "display_name": "Python 3",
   "language": "python",
   "name": "python3"
  },
  "language_info": {
   "name": "python",
   "version": ""
  }
 },
 "nbformat": 4,
 "nbformat_minor": 2
}