{
 "cells": [
  {
   "cell_type": "markdown",
   "metadata": {},
   "source": [
    "## Dependency Preparation Workflow\n",
    "\n",
    "This notebook documents and executes the standard procedure for adding new dependencies or making structural changes to the JennAI project. Following these steps ensures consistency and prevents environment-related bugs."
   ]
  },
  {
   "cell_type": "markdown",
   "metadata": {},
   "source": [
    "### Step 1: Cleanup\n",
    "\n",
    "Start with a clean slate by running the cleanup script. This removes old build artifacts, caches, and test results."
   ]
  },
  {
   "cell_type": "code",
   "execution_count": null,
   "metadata": {},
   "outputs": [],
   "source": [
    "!python ../admin/cleanup.py"
   ]
  },
  {
   "cell_type": "markdown",
   "metadata": {},
   "source": [
    "### Step 2: Define Structure & Dependencies (Manual Step)\n",
    "\n",
    "Before proceeding, you must manually update the project's configuration files in your code editor:\n",
    "\n",
    "1.  **New Directories**: If your feature requires new folders, add them to `admin/create_directories.py`.\n",
    "2.  **New Dependencies**: Add any new packages to `environment.yaml` (for conda) or `requirements.txt` (for pip)."
   ]
  },
  {
   "cell_type": "markdown",
   "metadata": {},
   "source": [
    "### Step 3: Synchronize Environment (Manual Step - Terminal Required)\n",
    "\n",
    "Open your terminal (e.g., Anaconda Prompt), ensure you are in the **base** conda environment, and run the following command from the project root:\n",
    "\n",
    "```bash\n",
    "conda env update --file environment.yaml --prune\n",
    "```\n",
    "\n",
    "**Do not run this from within the notebook.** This command modifies the environment itself and should be run from an external terminal. You may need to restart the Jupyter kernel after this step."
   ]
  },
  {
   "cell_type": "markdown",
   "metadata": {},
   "source": [
    "### Step 4: Validate with Regression Test\n",
    "\n",
    "After updating the environment, run the full regression test suite to ensure that the changes have not broken any existing functionality. This is a critical validation step."
   ]
  },
  {
   "cell_type": "code",
   "execution_count": null,
   "metadata": {},
   "outputs": [],
   "source": [
    "# This cell runs the same sequence as the \"Regression Testing\" menu option.\n",
    "!python ../admin/cleanup.py\n",
    "!python ../admin/create_directories.py\n",
    "!python -m pytest --alluredir=../allure-results --clean-alluredir ../"
   ]
  },
  {
   "cell_type": "markdown",
   "metadata": {},
   "source": [
    "### ✅ Workflow Complete\n",
    "\n",
    "If all the above steps have passed, your environment is now ready for you to begin implementing the new feature."
   ]
  }
 ],
 "metadata": {
  "kernelspec": {
   "display_name": "Python 3 (ipykernel)",
   "language": "python",
   "name": "python3"
  },
  "language_info": {
   "codemirror_mode": {
    "name": "ipython",
    "version": 3
   },
   "file_extension": ".py",
   "mimetype": "text/x-python",
   "name": "python",
   "nbconvert_exporter": "python",
   "pygments_lexer": "ipython3",
   "version": "3.9.19"
  }
 },
 "nbformat": 4,
 "nbformat_minor": 4
}
