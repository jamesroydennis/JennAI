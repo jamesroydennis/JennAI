{
 "cells": [
  {
   "cell_type": "markdown",
   "id": "6dacdbd8",
   "metadata": {},
   "source": [
    "# Debug Entanglement Import Issues\n",
    "\n",
    "This notebook investigates and resolves the `ModuleNotFoundError: No module named 'show_env'` error that's preventing the persona entanglement tests from running.\n",
    "\n",
    "## Problem Summary\n",
    "\n",
    "When running `pytest`, the collection phase fails with:\n",
    "```\n",
    "src\\presentation\\tests\\test_context_persona_entanglement.py:26: in <module>\n",
    "    from admin.show_context import main as show_context_main\n",
    "admin\\show_context.py:17: in <module>\n",
    "    from show_env import show_env_file\n",
    "E   ModuleNotFoundError: No module named 'show_env'\n",
    "```\n",
    "\n",
    "The issue chain:\n",
    "1. **Test modules** import `admin.show_context`\n",
    "2. **show_context.py** tries to import `show_env` \n",
    "3. **show_env.py** exists in the same admin directory but isn't found\n",
    "\n",
    "Let's debug and fix this entanglement issue step by step."
   ]
  },
  {
   "cell_type": "markdown",
   "id": "c88bbb46",
   "metadata": {},
   "source": [
    "## 1. Review Project Directory Structure\n",
    "\n",
    "First, let's examine the project structure to understand where files are located and how imports should work."
   ]
  },
  {
   "cell_type": "code",
   "execution_count": null,
   "id": "f826d4c5",
   "metadata": {},
   "outputs": [],
   "source": [
    "import os\n",
    "import sys\n",
    "from pathlib import Path\n",
    "\n",
    "# Set up project root path\n",
    "ROOT = Path(__file__).resolve().parent.parent\n",
    "print(f\"Project root: {ROOT}\")\n",
    "print(f\"Current working directory: {os.getcwd()}\")\n",
    "print(f\"Python path: {sys.path[:3]}...\")  # First 3 entries\n",
    "\n",
    "# Check admin directory contents\n",
    "admin_dir = ROOT / \"admin\"\n",
    "print(f\"\\nAdmin directory: {admin_dir}\")\n",
    "print(f\"Admin directory exists: {admin_dir.exists()}\")\n",
    "\n",
    "if admin_dir.exists():\n",
    "    print(\"\\nAdmin directory contents:\")\n",
    "    for item in sorted(admin_dir.iterdir()):\n",
    "        if item.is_file() and item.suffix == '.py':\n",
    "            print(f\"  📄 {item.name}\")\n",
    "\n",
    "# Check specifically for the problematic files\n",
    "show_context_py = admin_dir / \"show_context.py\"\n",
    "show_env_py = admin_dir / \"show_env.py\"\n",
    "\n",
    "print(f\"\\nFile existence check:\")\n",
    "print(f\"  show_context.py: {show_context_py.exists()}\")\n",
    "print(f\"  show_env.py: {show_env_py.exists()}\")\n",
    "print(f\"  show_config.py: {(admin_dir / 'show_config.py').exists()}\")\n",
    "print(f\"  check_env_vars.py: {(admin_dir / 'check_env_vars.py').exists()}\")\n",
    "print(f\"  show_dependencies.py: {(admin_dir / 'show_dependencies.py').exists()}\")"
   ]
  },
  {
   "cell_type": "markdown",
   "id": "ec8ac6bd",
   "metadata": {},
   "source": [
    "## 2. Reproduce ImportError in Test\n",
    "\n",
    "Now let's simulate the exact import chain that's failing in the test suite."
   ]
  },
  {
   "cell_type": "markdown",
   "id": "dad292d1",
   "metadata": {},
   "source": [
    "# Debug Entanglement Import Errors\n",
    "\n",
    "The entanglement tests are failing because of import errors in `admin.show_context.py`. This notebook investigates and fixes the issue.\n",
    "\n",
    "## The Problem\n",
    "```\n",
    "ModuleNotFoundError: No module named 'show_env'\n",
    "```\n",
    "\n",
    "The error occurs when pytest tries to collect tests that import from `admin.show_context`, which in turn tries to import sibling modules without proper path setup.\n",
    "\n",
    "## Investigation Plan\n",
    "1. Reproduce the ImportError in a minimal example\n",
    "2. Inspect sys.path and module resolution\n",
    "3. Test relative vs absolute imports\n",
    "4. Patch imports for test discovery\n",
    "5. Validate test discovery fixes\n",
    "6. Automate sys.path correction for future test runs"
   ]
  }
 ],
 "metadata": {
  "language_info": {
   "name": "python"
  }
 },
 "nbformat": 4,
 "nbformat_minor": 5
}
