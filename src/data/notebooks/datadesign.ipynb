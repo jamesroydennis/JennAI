{
 "cells": [
  {
   "cell_type": "markdown",
   "metadata": {},
   "source": [
    "# PyRepo-Pal Database Design\n",
    "\n",
    "This notebook outlines the database schema for PyRepo-Pal and includes scripts for initializing the database (initially with SQLite)."
   ]
  },
  {
   "cell_type": "markdown",
   "metadata": {},
   "source": [
    "## Database Configuration"
   ]
  },
  {
   "cell_type": "code",
   "execution_count": null,
   "metadata": {},
   "outputs": [],
   "source": [
    "from pathlib import Path\n",
    "import sqlite3\n",
    "\n",
    "# Define the database path (relative to the project root's src/data/ directory)\n",
    "PROJECT_ROOT = Path().resolve().parent.parent # Assuming this notebook is in src/data/notebooks\n",
    "DB_DIR = PROJECT_ROOT / \"src\" / \"data\" / \"database\"\n",
    "DB_FILE = DB_DIR / \"pyrepopal.db\"\n",
    "\n",
    "def ensure_db_directory():\n",
    "    DB_DIR.mkdir(parents=True, exist_ok=True)\n",
    "    print(f\"Database directory ensured: {DB_DIR}\")\n",
    "\n",
    "ensure_db_directory()\n",
    "print(f\"Database file will be located at: {DB_FILE}\")"
   ]
  },
  {
   "cell_type": "markdown",
   "metadata": {},
   "source": [
    "## Table Schemas\n",
    "\n",
    "This section defines the conceptual schema for each table and provides the SQLite `CREATE TABLE` statements."
   ]
  },
  {
   "cell_type": "markdown",
   "metadata": {},
   "source": [
    "### 1. `analysis_sessions` Table\n",
    "\n",
    "**Purpose:** To track each unique analysis run performed by PyRepo-Pal.\n",
    "\n",
    "**Conceptual Attributes:**\n",
    "\n",
    "| Column Name                   | General Data Type | SQLite Data Type | Constraints                               | Description                                                                 |\n",
    "|-------------------------------|-------------------|------------------|-------------------------------------------|-----------------------------------------------------------------------------|\n",
    "| `session_id`                  | Integer           | INTEGER          | PRIMARY KEY, AUTOINCREMENT                | Unique identifier for the session.                                          |\n",
    "| `target_repository_identifier`| Text              | TEXT             | NOT NULL                                  | URL or local path of the repository being analyzed.                         |\n",
    "| `analysis_timestamp`          | DateTime/Text     | TEXT             | NOT NULL                                  | Timestamp of when the analysis was initiated (e.g., ISO 8601 format).     |\n",
    "| `user_notes`                  | Text              | TEXT             |                                           | Optional notes by the user about this session.                              |\n",
    "| `status`                      | Text              | TEXT             |                                           | e.g., \"pending\", \"data_collected\", \"prompt_generated\", \"ai_analyzed\", \"completed\", \"failed\". |\n"
   ]
  },
  {
   "cell_type": "code",
   "execution_count": null,
   "metadata": {},
   "outputs": [],
   "source": [
    "CREATE_ANALYSIS_SESSIONS_TABLE_SQL = \"\"\"\n",
    "CREATE TABLE IF NOT EXISTS analysis_sessions (\n",
    "    session_id INTEGER PRIMARY KEY AUTOINCREMENT,\n",
    "    target_repository_identifier TEXT NOT NULL,\n",
    "    analysis_timestamp TEXT NOT NULL,\n",
    "    user_notes TEXT,\n",
    "    status TEXT\n",
    ");\n",
    "\"\"\"\n",
    "\n",
    "print(\"SQL for analysis_sessions table defined.\")"
   ]
  },
  {
   "cell_type": "markdown",
   "metadata": {},
   "source": [
    "### 2. `system_profiles` Table\n",
    "\n",
    "**Purpose:** To store the user's system hardware/software profile at the time of a specific analysis session.\n",
    "\n",
    "**Conceptual Attributes:**\n",
    "\n",
    "| Column Name         | General Data Type | SQLite Data Type | Constraints                               | Description                                                                 |\n",
    "|---------------------|-------------------|------------------|-------------------------------------------|-----------------------------------------------------------------------------|\n",
    "| `profile_id`        | Integer           | INTEGER          | PRIMARY KEY, AUTOINCREMENT                | Unique identifier for the profile.                                          |\n",
    "| `session_id`        | Integer           | INTEGER          | NOT NULL, FOREIGN KEY (analysis_sessions) | Links to the analysis session.                                              |\n",
    "| `profile_timestamp` | DateTime/Text     | TEXT             | NOT NULL                                  | Timestamp when the profile was captured.                                    |\n",
    "| `os_info`           | JSON/Text         | TEXT             |                                           | JSON string containing OS details.                                          |\n",
    "| `cpu_info`          | JSON/Text         | TEXT             |                                           | JSON string containing CPU details.                                         |\n",
    "| `ram_info`          | JSON/Text         | TEXT             |                                           | JSON string containing RAM details.                                         |\n",
    "| `gpu_info`          | JSON/Text         | TEXT             |                                           | JSON string containing GPU details.                                         |\n",
    "| `disk_info`         | JSON/Text         | TEXT             |                                           | JSON string containing disk details.                                        |\n",
    "| `python_info`       | JSON/Text         | TEXT             |                                           | JSON string containing Python environment details.                          |\n"
   ]
  },
  {
   "cell_type": "code",
   "execution_count": null,
   "metadata": {},
   "outputs": [],
   "source": [
    "CREATE_SYSTEM_PROFILES_TABLE_SQL = \"\"\"\n",
    "CREATE TABLE IF NOT EXISTS system_profiles (\n",
    "    profile_id INTEGER PRIMARY KEY AUTOINCREMENT,\n",
    "    session_id INTEGER NOT NULL,\n",
    "    profile_timestamp TEXT NOT NULL,\n",
    "    os_info TEXT,\n",
    "    cpu_info TEXT,\n",
    "    ram_info TEXT,\n",
    "    gpu_info TEXT,\n",
    "    disk_info TEXT,\n",
    "    python_info TEXT,\n",
    "    FOREIGN KEY (session_id) REFERENCES analysis_sessions (session_id)\n",
    ");\n",
    "\"\"\"\n",
    "\n",
    "print(\"SQL for system_profiles table defined.\")"
   ]
  },
  {
   "cell_type": "markdown",
   "metadata": {},
   "source": [
    "### 3. `repository_snapshots` Table\n",
    "\n",
    "**Purpose:** To store the content of key files from the target repository at the time of a specific analysis session.\n",
    "\n",
    "**Conceptual Attributes:**\n",
    "\n",
    "| Column Name                       | General Data Type | SQLite Data Type | Constraints                               | Description                                                                 |\n",
    "|-----------------------------------|-------------------|------------------|-------------------------------------------|-----------------------------------------------------------------------------|\n",
    "| `snapshot_id`                     | Integer           | INTEGER          | PRIMARY KEY, AUTOINCREMENT                | Unique identifier for the snapshot.                                         |\n",
    "| `session_id`                      | Integer           | INTEGER          | NOT NULL, FOREIGN KEY (analysis_sessions) | Links to the analysis session.                                              |\n",
    "| `readme_content`                  | Text              | TEXT             |                                           | Content of README.md.                                                       |\n",
    "| `requirements_txt_content`        | Text              | TEXT             |                                           | Content of requirements.txt.                                                |\n",
    "| `environment_yaml_content`        | Text              | TEXT             |                                           | Content of environment.yaml.                                                |\n",
    "| `existing_min_sys_reqs_content`   | Text              | TEXT             |                                           | Content of any found existing requirements file.                            |\n"
   ]
  },
  {
   "cell_type": "code",
   "execution_count": null,
   "metadata": {},
   "outputs": [],
   "source": [
    "CREATE_REPOSITORY_SNAPSHOTS_TABLE_SQL = \"\"\"\n",
    "CREATE TABLE IF NOT EXISTS repository_snapshots (\n",
    "    snapshot_id INTEGER PRIMARY KEY AUTOINCREMENT,\n",
    "    session_id INTEGER NOT NULL,\n",
    "    readme_content TEXT,\n",
    "    requirements_txt_content TEXT,\n",
    "    environment_yaml_content TEXT,\n",
    "    existing_min_sys_reqs_content TEXT,\n",
    "    FOREIGN KEY (session_id) REFERENCES analysis_sessions (session_id)\n",
    ");\n",
    "\"\"\"\n",
    "\n",
    "print(\"SQL for repository_snapshots table defined.\")"
   ]
  },
  {
   "cell_type": "markdown",
   "metadata": {},
   "source": [
    "### Database Initialization Script\n",
    "\n",
    "The following cell contains a Python script to connect to the SQLite database and create the defined tables if they don't already exist."
   ]
  },
  {
   "cell_type": "code",
   "execution_count": null,
   "metadata": {},
   "outputs": [],
   "source": [
    "def initialize_database():\n",
    "    ensure_db_directory() # Make sure directory exists\n",
    "    conn = None\n",
    "    try:\n",
    "        conn = sqlite3.connect(DB_FILE)\n",
    "        cursor = conn.cursor()\n",
    "        print(f\"Connected to database: {DB_FILE}\")\n",
    "        \n",
    "        table_creation_scripts = {\n",
    "            \"analysis_sessions\": CREATE_ANALYSIS_SESSIONS_TABLE_SQL,\n",
    "            \"system_profiles\": CREATE_SYSTEM_PROFILES_TABLE_SQL,\n",
    "            \"repository_snapshots\": CREATE_REPOSITORY_SNAPSHOTS_TABLE_SQL,\n",
    "            \"generated_prompts\": CREATE_GENERATED_PROMPTS_TABLE_SQL, # Added\n",
    "            \"ai_analysis_results\": CREATE_AI_ANALYSIS_RESULTS_TABLE_SQL  # Added\n",
    "        }\n",
    "        \n",
    "        for table_name, script in table_creation_scripts.items():\n",
    "            print(f\"Ensuring {table_name} table...\")\n",
    "            cursor.execute(script)\n",
    "        \n",
    "        conn.commit()\n",
    "        print(\"Database initialized successfully with all tables.\")\n",
    "        \n",
    "    except sqlite3.Error as e:\n",
    "        print(f\"SQLite error during database initialization: {e}\")\n",
    "    finally:\n",
    "        if conn:\n",
    "            conn.close()\n",
    "            print(\"Database connection closed.\")\n",
    "\n",
    "# To run the initialization:\n",
    "# initialize_database()"
   ]
  },
  {
   "cell_type": "markdown",
   "metadata": {},
   "source": [
    "To initialize or update the database schema, uncomment and run the `initialize_database()` call in the cell above."
   ]
  },
  {
   "cell_type": "markdown",
   "metadata": {},
   "source": [
    "### 4. `generated_prompts` Table\n",
    "\n",
    "**Purpose:** To store the actual prompt text generated and sent to the AI for a session.\n",
    "\n",
    "**Conceptual Attributes:**\n",
    "\n",
    "| Column Name           | General Data Type | SQLite Data Type | Constraints                               | Description                                                                 |\n",
    "|-----------------------|-------------------|------------------|-------------------------------------------|-----------------------------------------------------------------------------|\n",
    "| `prompt_id`           | Integer           | INTEGER          | PRIMARY KEY, AUTOINCREMENT                | Unique identifier for the prompt.                                           |\n",
    "| `session_id`          | Integer           | INTEGER          | NOT NULL, FOREIGN KEY (analysis_sessions) | Links to the analysis session.                                              |\n",
    "| `prompt_type`         | Text              | TEXT             |                                           | e.g., \"min_sys_reqs_determination\", \"dependency_resolution_cuda\".       |\n",
    "| `template_name_used`  | Text              | TEXT             |                                           | Name of the template file used.                                             |\n",
    "| `prompt_content`      | Text              | TEXT             | NOT NULL                                  | The full text of the generated prompt.                                      |\n",
    "| `creation_timestamp`  | DateTime/Text     | TEXT             | NOT NULL                                  | Timestamp when the prompt was created.                                      |\n"
   ]
  },
  {
   "cell_type": "code",
   "execution_count": null,
   "metadata": {},
   "outputs": [],
   "source": [
    "CREATE_GENERATED_PROMPTS_TABLE_SQL = \"\"\"\n",
    "CREATE TABLE IF NOT EXISTS generated_prompts (\n",
    "    prompt_id INTEGER PRIMARY KEY AUTOINCREMENT,\n",
    "    session_id INTEGER NOT NULL,\n",
    "    prompt_type TEXT,\n",
    "    template_name_used TEXT,\n",
    "    prompt_content TEXT NOT NULL,\n",
    "    creation_timestamp TEXT NOT NULL,\n",
    "    FOREIGN KEY (session_id) REFERENCES analysis_sessions (session_id)\n",
    ");\n",
    "\"\"\"\n",
    "print(\"SQL for generated_prompts table defined.\")"
   ]
  },
  {
   "cell_type": "markdown",
   "metadata": {},
   "source": [
    "### 5. `ai_analysis_results` Table\n",
    "\n",
    "**Purpose:** To store the response from the AI.\n",
    "\n",
    "**Conceptual Attributes:**\n",
    "\n",
    "| Column Name                       | General Data Type | SQLite Data Type | Constraints                               | Description                                                                 |\n",
    "|-----------------------------------|-------------------|------------------|-------------------------------------------|-----------------------------------------------------------------------------|\n",
    "| `result_id`                       | Integer           | INTEGER          | PRIMARY KEY, AUTOINCREMENT                | Unique identifier for the result.                                           |\n",
    "| `prompt_id`                       | Integer           | INTEGER          | NOT NULL, FOREIGN KEY (generated_prompts) | Links to the generated prompt.                                              |\n",
    "| `ai_response_raw`                 | Text              | TEXT             | NOT NULL                                  | The raw response from the AI.                                               |\n",
    "| `parsed_system_requirements_json` | JSON/Text         | TEXT             |                                           | Parsed JSON output for system requirements.                                 |\n",
    "| `parsed_dependencies_json`        | JSON/Text         | TEXT             |                                           | Parsed JSON/structured output for dependencies.                             |\n",
    "| `response_timestamp`              | DateTime/Text     | TEXT             | NOT NULL                                  | Timestamp when the AI response was received.                                |\n"
   ]
  },
  {
   "cell_type": "code",
   "execution_count": null,
   "metadata": {},
   "outputs": [],
   "source": [
    "CREATE_AI_ANALYSIS_RESULTS_TABLE_SQL = \"\"\"\n",
    "CREATE TABLE IF NOT EXISTS ai_analysis_results (\n",
    "    result_id INTEGER PRIMARY KEY AUTOINCREMENT,\n",
    "    prompt_id INTEGER NOT NULL,\n",
    "    ai_response_raw TEXT NOT NULL,\n",
    "    parsed_system_requirements_json TEXT,\n",
    "    parsed_dependencies_json TEXT,\n",
    "    response_timestamp TEXT NOT NULL,\n",
    "    FOREIGN KEY (prompt_id) REFERENCES generated_prompts (prompt_id)\n",
    ");\n",
    "\"\"\"\n",
    "print(\"SQL for ai_analysis_results table defined.\")"
   ]
  },
  {
   "cell_type": "code",
   "execution_count": null,
   "metadata": {},
   "outputs": [],
   "source": [
    "# Updated initialize_database function\n",
    "def initialize_database():\n",
    "    ensure_db_directory() # Make sure directory exists\n",
    "    conn = None\n",
    "    try:\n",
    "        conn = sqlite3.connect(DB_FILE)\n",
    "        cursor = conn.cursor()\n",
    "        print(f\"Connected to database: {DB_FILE}\")\n",
    "        \n",
    "        table_creation_scripts = {\n",
    "            \"analysis_sessions\": CREATE_ANALYSIS_SESSIONS_TABLE_SQL,\n",
    "            \"system_profiles\": CREATE_SYSTEM_PROFILES_TABLE_SQL,\n",
    "            \"repository_snapshots\": CREATE_REPOSITORY_SNAPSHOTS_TABLE_SQL,\n",
    "            \"generated_prompts\": CREATE_GENERATED_PROMPTS_TABLE_SQL,\n",
    "            \"ai_analysis_results\": CREATE_AI_ANALYSIS_RESULTS_TABLE_SQL\n",
    "        }\n",
    "        \n",
    "        for table_name, script in table_creation_scripts.items():\n",
    "            print(f\"Ensuring {table_name} table...\") # This print was part of the loop already\n",
    "            cursor.execute(script)\n",
    "        \n",
    "        conn.commit()\n",
    "        print(\"Database initialized successfully with all tables.\")\n",
    "        \n",
    "    except sqlite3.Error as e:\n",
    "        print(f\"SQLite error during database initialization: {e}\")\n",
    "    finally:\n",
    "        if conn:\n",
    "            conn.close()\n",
    "            print(\"Database connection closed.\")\n",
    "\n",
    "# To run the initialization:\n",
    "# initialize_database()"
   ]
  }
 ],
 "metadata": {
  "kernelspec": {
   "display_name": "Python 3",
   "language": "python",
   "name": "python3"
  },
  "language_info": {
   "codemirror_mode": {
    "name": "ipython",
    "version": 3
   },
   "file_extension": ".py",
   "mimetype": "text/x-python",
   "name": "python",
   "nbconvert_exporter": "python",
   "pygments_lexer": "ipython3",
   "version": "3.9.23"
  }
 },
 "nbformat": 4,
 "nbformat_minor": 2
}