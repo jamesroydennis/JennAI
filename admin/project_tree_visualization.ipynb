{
 "cells": [
  {
   "cell_type": "markdown",
   "metadata": {},
   "source": [
    "# Project Tree Visualization Notebook\n",
    "\n",
    "This notebook explores methods to visualize the directory structure of the JennAI project. It's useful for understanding the project layout, especially when working with a monorepo structure.\n",
    "\n",
    "We'll primarily focus on using the `eza` command-line tool, which provides excellent tree views, and also consider Python-native approaches."
   ]
  },
  {
   "cell_type": "markdown",
   "metadata": {},
   "source": [
    "## 1. Environment Setup & Path Configuration\n",
    "\n",
    "Ensure the JennAI project root is added to `sys.path` so we can potentially import project-specific utilities if needed, and correctly reference the project root."
   ]
  },
  {
   "cell_type": "code",
   "execution_count": null,
   "metadata": {},
   "outputs": [],
   "source": [
    "import sys\n",
    "from pathlib import Path\n",
    "\n",
    "# Determine the JennAI project root dynamically\n",
    "# Assumes this notebook is in 'JennAI/admin/'\n",
    "current_notebook_path = Path(__file__).resolve()\n",
    "jennai_root = current_notebook_path.parent.parent # Go up two levels from admin/notebook.ipynb\n",
    "\n",
    "if str(jennai_root) not in sys.path:\n",
    "    sys.path.insert(0, str(jennai_root))\n",
    "\n",
    "print(f\"JennAI project root set to: {jennai_root}\")"
   ]
  },
  {
   "cell_type": "markdown",
   "metadata": {},
   "source": [
    "## 2. Visualizing with `eza --tree`\n",
    "\n",
    "`eza` is a modern replacement for `ls` with great features, including a powerful tree view. Ensure `eza` is installed on your system (`sudo apt install eza` or `brew install eza`, etc.)."
   ]
  },
  {
   "cell_type": "code",
   "execution_count": null,
   "metadata": {},
   "outputs": [],
   "source": [
    "import subprocess\n",
    "\n",
    "def display_project_tree_with_eza(project_path: Path):\n",
    "    \"\"\"Runs 'eza --tree' for the given project path and prints the output.\"\"\"\n",
    "    print(f\"Attempting to display project tree for: {project_path} using 'eza --tree'...\")\n",
    "    try:\n",
    "        # Check if eza is installed by trying to get its version\n",
    "        subprocess.run([\"eza\", \"--version\"], check=True, capture_output=True, text=True)\n",
    "        \n",
    "        # Run eza --tree\n",
    "        # You can add more eza options here, e.g., --level=3, --ignore-glob=\".git|__pycache__\"\n",
    "        result = subprocess.run(\n",
    "            [\"eza\", \"--tree\"], \n",
    "            cwd=project_path, \n",
    "            check=True, \n",
    "            capture_output=True, \n",
    "            text=True\n",
    "        )\n",
    "        print(\"\\n------------------- Project Tree (eza) -------------------\")\n",
    "        print(result.stdout.strip())\n",
    "        print(\"--------------------------------------------------------\")\n",
    "        print(\"Successfully displayed project tree using 'eza --tree'.\")\n",
    "    except FileNotFoundError:\n",
    "        print(\"'eza' command not found. Please install eza to use this feature.\")\n",
    "    except subprocess.CalledProcessError as e:\n",
    "        print(f\"'eza --tree' command failed with error: {e}\")\n",
    "        print(f\"  Stderr: {e.stderr}\")\n",
    "    except Exception as e:\n",
    "        print(f\"An unexpected error occurred: {e}\")\n",
    "\n",
    "# Display the tree for the current JennAI project root\n",
    "display_project_tree_with_eza(jennai_root)"
   ]
  },
  {
   "cell_type": "markdown",
   "metadata": {},
   "source": [
    "## 3. Python-native Tree Visualization (Placeholder)\n",
    "\n",
    "If `eza` is not available or for a more programmatic approach, we can use Python's `pathlib` and `os` modules to build a tree view. This is more involved but offers more control."
   ]
  },
  {
   "cell_type": "code",
   "execution_count": null,
   "metadata": {},
   "source": [
    "from pathlib import Path\n",
    "import os # For os.sep, though Path handles separators well\n",
    "\n",
    "def display_tree_python_native(start_path: Path, level: int = 0, indent_char: str = \"│   \", last_indent_char: str = \"    \", prefix: str = \"\", ignore_dirs: list = None, ignore_files: list = None):\n",
    "    \"\"\"Recursively prints a directory tree structure using Python's pathlib.\"\"\"\n",
    "    if ignore_dirs is None:\n",
    "        ignore_dirs = ['.git', '__pycache__', '.pytest_cache', '.venv', 'venv', 'env', 'ENV', 'logs', 'allure-results', 'allure-report', '.ipynb_checkpoints']\n",
    "    if ignore_files is None:\n",
    "        ignore_files = [] # e.g., ['.DS_Store']\n",
    "\n",
    "    if level == 0:\n",
    "        print(f\"{start_path.name}/\")\n",
    "\n",
    "    # Get directory contents, filter out ignored items, and sort\n",
    "    try:\n",
    "        contents = sorted([item for item in start_path.iterdir() \n",
    "                           if (item.is_dir() and item.name not in ignore_dirs) or \n",
    "                              (item.is_file() and item.name not in ignore_files)])\n",
    "    except PermissionError:\n",
    "        print(f\"{prefix}└── [Permission Denied]\")\n",
    "        return\n",
    "    except FileNotFoundError:\n",
    "        print(f\"{prefix}└── [Path Not Found]\")\n",
    "        return\n",
    "\n",
    "    pointers = [\"├── \"] * (len(contents) - 1) + [\"└── \"]\n",
    "\n",
    "    for pointer, path_item in zip(pointers, contents):\n",
    "        print(f\"{prefix}{pointer}{path_item.name}{'/' if path_item.is_dir() else ''}\")\n",
    "\n",
    "        if path_item.is_dir():\n",
    "            extension = indent_char if pointer == \"├── \" else last_indent_char\n",
    "            display_tree_python_native(path_item, level + 1, prefix=prefix + extension, ignore_dirs=ignore_dirs, ignore_files=ignore_files)\n",
    "\n",
    "# Display the tree for the current JennAI project root using the Python-native function\n",
    "print(\"\\n------------------- Project Tree (Python Native) -------------------\")\n",
    "display_tree_python_native(jennai_root, ignore_dirs=['.git', '__pycache__', '.pytest_cache', '.venv', 'venv', 'env', 'ENV', 'logs', 'allure-results', 'allure-report', '.ipynb_checkpoints', 'anaconda_projects', '.virtual_documents', '.trash'])\n",
    "print(\"--------------------------------------------------------------------\")"
   ]
  }
 ],
 "metadata": {
  "kernelspec": {
   "display_name": "Python 3 (ipykernel)",
   "language": "python",
   "name": "python3"
  },
  "language_info": {
   "codemirror_mode": {
    "name": "ipython",
    "version": 3
   },
   "file_extension": ".py",
   "mimetype": "text/x-python",
   "name": "python",
   "nbconvert_exporter": "python",
   "pygments_lexer": "ipython3",
   "version": "3.9.23"
  }
 },
 "nbformat": 4,
 "nbformat_minor": 5
}